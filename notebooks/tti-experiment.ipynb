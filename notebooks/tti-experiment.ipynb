{
 "cells": [
  {
   "cell_type": "markdown",
   "metadata": {},
   "source": [
    "Some words"
   ]
  },
  {
   "cell_type": "code",
   "execution_count": 1,
   "metadata": {},
   "outputs": [],
   "source": [
    "import os\n",
    "\n",
    "import numpy as np\n",
    "\n",
    "from tti_explorer import case, config, contacts"
   ]
  },
  {
   "cell_type": "code",
   "execution_count": 2,
   "metadata": {},
   "outputs": [],
   "source": [
    "def print_doc(func):\n",
    "    print(func.__doc__)"
   ]
  },
  {
   "cell_type": "markdown",
   "metadata": {},
   "source": [
    "Before we do anything, let's make a random state"
   ]
  },
  {
   "cell_type": "code",
   "execution_count": 3,
   "metadata": {},
   "outputs": [],
   "source": [
    "rng = np.random.RandomState(0)"
   ]
  },
  {
   "cell_type": "markdown",
   "metadata": {},
   "source": [
    "We will first do a short tour of the functionality, then show how this is put together to generate simulation results."
   ]
  },
  {
   "cell_type": "markdown",
   "metadata": {},
   "source": [
    "## Generate a case"
   ]
  },
  {
   "cell_type": "markdown",
   "metadata": {},
   "source": [
    "The function we use for this is `simulate_case` in `case.py`"
   ]
  },
  {
   "cell_type": "code",
   "execution_count": 4,
   "metadata": {},
   "outputs": [
    {
     "name": "stdout",
     "output_type": "stream",
     "text": [
      "simulate_case\n",
      "\n",
      "    Args:\n",
      "        rng (np.random.RandomState): random number generator.\n",
      "        p_under18 (float): Probability of case being under 18\n",
      "        infection_proportions (list[float]): Probs of being symp covid neg, symp covid pos, asymp covid pos\n",
      "        p_day_noticed_symptoms (np.array[float]): Distribution of day on which case notices\n",
      "            their symptoms. (In our model this is same as reporting symptoms.)\n",
      "            Conditional on being symptomatic.\n",
      "        inf_profile (list[float]): Distribution of initial exposure of positive secondary cases\n",
      "            relative to start of primary case's infectious period.\n",
      "\n",
      "    Returns (Case): case with attributes populated.\n",
      "    \n"
     ]
    }
   ],
   "source": [
    "print_doc(case.simulate_case)"
   ]
  },
  {
   "cell_type": "markdown",
   "metadata": {},
   "source": [
    "We store our config values in `config.py`. You can retrieve them as follows"
   ]
  },
  {
   "cell_type": "code",
   "execution_count": 5,
   "metadata": {},
   "outputs": [
    {
     "data": {
      "text/plain": [
       "dict_keys(['p_under18', 'infection_proportions', 'p_day_noticed_symptoms', 'inf_profile'])"
      ]
     },
     "execution_count": 5,
     "metadata": {},
     "output_type": "execute_result"
    }
   ],
   "source": [
    "case_config = config.get_case_config(\"oxteam\")\n",
    "case_config.keys()"
   ]
  },
  {
   "cell_type": "markdown",
   "metadata": {},
   "source": [
    "We use these parameters to simulate a case"
   ]
  },
  {
   "cell_type": "code",
   "execution_count": 6,
   "metadata": {},
   "outputs": [
    {
     "name": "stdout",
     "output_type": "stream",
     "text": [
      "Case(under18, covid, symptomatic, day_noticed_symptoms, inf_profile)\n"
     ]
    }
   ],
   "source": [
    "primary_case = case.simulate_case(rng, **case_config)\n",
    "print_doc(primary_case)"
   ]
  },
  {
   "cell_type": "markdown",
   "metadata": {},
   "source": [
    "Returned is a `namedtuple`, `case.Case`, with stochastically generated attributes."
   ]
  },
  {
   "cell_type": "code",
   "execution_count": 7,
   "metadata": {},
   "outputs": [],
   "source": [
    "rng = np.random.RandomState(0)"
   ]
  },
  {
   "cell_type": "markdown",
   "metadata": {},
   "source": [
    "### Deeper: Case attributes"
   ]
  },
  {
   "cell_type": "markdown",
   "metadata": {},
   "source": [
    "_todo BE: explain case attributes_"
   ]
  },
  {
   "cell_type": "markdown",
   "metadata": {},
   "source": [
    "## Generate contacts\n",
    "Social contacts are also represented as a `namedtuple`, called `Contacts` and defined in `contacts.py`.\n",
    "\n",
    "To simulate social contacts, we use the BBC Pandemic Dataset. This is stratified as over/under 18 to give different patterns of social contact depending on the age of the case. "
   ]
  },
  {
   "cell_type": "code",
   "execution_count": 8,
   "metadata": {},
   "outputs": [],
   "source": [
    "def load_csv(pth):\n",
    "    return np.loadtxt(pth, dtype=int, skiprows=1, delimiter=\",\")"
   ]
  },
  {
   "cell_type": "code",
   "execution_count": 9,
   "metadata": {},
   "outputs": [],
   "source": [
    "path_to_bbc_data = os.path.join(os.pardir, \"data\", \"bbc-pandemic\")\n",
    "\n",
    "over18 = load_csv(os.path.join(path_to_bbc_data, \"contact_distributions_o18.csv\"))\n",
    "under18 = load_csv(os.path.join(path_to_bbc_data, \"contact_distributions_u18.csv\"))"
   ]
  },
  {
   "cell_type": "markdown",
   "metadata": {},
   "source": [
    "Now that we have the data loaded, we use `EmpiricalContactsSimulator` to sample these tables for contacts of the primary case, then simulate their infection under a no measures scenario (i.e. no government intervention)"
   ]
  },
  {
   "cell_type": "code",
   "execution_count": 10,
   "metadata": {},
   "outputs": [
    {
     "name": "stdout",
     "output_type": "stream",
     "text": [
      "Simulate social contact using the BBC Pandemic dataset\n",
      "\n",
      "        Args:\n",
      "            over18 (np.array[int]): Contact data for over 18s.\n",
      "            under18 (np.array[int]): Contact data for under 18s.\n",
      "            rng (np.random.RandomState): Random state.\n",
      "\n",
      "        \n"
     ]
    }
   ],
   "source": [
    "print_doc(contacts.EmpiricalContactsSimulator.__init__)"
   ]
  },
  {
   "cell_type": "code",
   "execution_count": 11,
   "metadata": {},
   "outputs": [],
   "source": [
    "simulate_contacts = contacts.EmpiricalContactsSimulator(over18, under18, rng)"
   ]
  },
  {
   "cell_type": "markdown",
   "metadata": {},
   "source": [
    "We can now use the callable `simulate_contacts` to simulate social contacts of the primary case"
   ]
  },
  {
   "cell_type": "code",
   "execution_count": 12,
   "metadata": {},
   "outputs": [
    {
     "name": "stdout",
     "output_type": "stream",
     "text": [
      "Generate a social contact for the given case.\n",
      "\n",
      "        A row from the table corresponding to the age of the `case` is sampled\n",
      "        uniformly at random. A contact is generated with daily contacts as\n",
      "        given by that row. These contacts are infected at random with attack rates\n",
      "        given by the SARs and whether or not the `case` is symptomatic. If the\n",
      "        `case` is COVID negative, then no contacts are infected.\n",
      "\n",
      "        Args:\n",
      "            case (Case): Primary case.\n",
      "            home_sar (float): Secondary attack rate for household contacts. (Marginal\n",
      "            probability of infection over the whole simulation).\n",
      "            work_sar (float): Secondary attack rate for contacts in the work category.\n",
      "            other_sar (float): Secondary attack rate for contacts in the other category.\n",
      "            asymp_factor (float): Factor by which to multiply the probabilty of secondary\n",
      "            infection if `case` is asymptomatic COVID positive.\n",
      "            period (int): Duration of the simulation (days).\n",
      "\n",
      "        Returns:\n",
      "            contacts (Contacts): Simulated social contacts and resulting infections\n",
      "            for primary case `case`.\n",
      "        \n"
     ]
    }
   ],
   "source": [
    "print_doc(simulate_contacts.__call__)"
   ]
  },
  {
   "cell_type": "markdown",
   "metadata": {},
   "source": [
    "To do this we need some more parameters, which we also load from `config.py`. The user can, of course, specify this themselves if they would like."
   ]
  },
  {
   "cell_type": "code",
   "execution_count": 13,
   "metadata": {},
   "outputs": [],
   "source": [
    "contacts_config = config.get_contacts_config(\"oxteam\")"
   ]
  },
  {
   "cell_type": "code",
   "execution_count": 14,
   "metadata": {},
   "outputs": [
    {
     "data": {
      "text/plain": [
       "dict_keys(['home_sar', 'work_sar', 'other_sar', 'period', 'asymp_factor'])"
      ]
     },
     "execution_count": 14,
     "metadata": {},
     "output_type": "execute_result"
    }
   ],
   "source": [
    "contacts_config.keys()"
   ]
  },
  {
   "cell_type": "markdown",
   "metadata": {},
   "source": [
    "We now do the same as we did with when simulating a primary case."
   ]
  },
  {
   "cell_type": "code",
   "execution_count": 15,
   "metadata": {},
   "outputs": [
    {
     "name": "stdout",
     "output_type": "stream",
     "text": [
      "Contacts(n_daily, home, work, other)\n"
     ]
    }
   ],
   "source": [
    "social_contacts = simulate_contacts(primary_case, **contacts_config)\n",
    "print_doc(social_contacts)"
   ]
  },
  {
   "cell_type": "markdown",
   "metadata": {},
   "source": [
    "### Deeper: Contacts attributes"
   ]
  },
  {
   "cell_type": "markdown",
   "metadata": {},
   "source": [
    "_todo BE: explain contacts attributes_"
   ]
  },
  {
   "cell_type": "markdown",
   "metadata": {},
   "source": [
    "All of the information about the primary case's infection and how they infect their social contacts (under no government intervention) is now contained in `primary_case` and `social_contacts`.\n",
    "\n",
    "... Now we run a simulation, some explanation of how that works"
   ]
  },
  {
   "cell_type": "markdown",
   "metadata": {},
   "source": [
    "## TTI Strategies"
   ]
  },
  {
   "cell_type": "code",
   "execution_count": null,
   "metadata": {},
   "outputs": [],
   "source": []
  },
  {
   "cell_type": "markdown",
   "metadata": {},
   "source": [
    "## Running a Simulation"
   ]
  },
  {
   "cell_type": "code",
   "execution_count": null,
   "metadata": {},
   "outputs": [],
   "source": []
  }
 ],
 "metadata": {
  "kernelspec": {
   "display_name": "Python 3",
   "language": "python",
   "name": "python3"
  },
  "language_info": {
   "codemirror_mode": {
    "name": "ipython",
    "version": 3
   },
   "file_extension": ".py",
   "mimetype": "text/x-python",
   "name": "python",
   "nbconvert_exporter": "python",
   "pygments_lexer": "ipython3",
   "version": "3.8.2"
  }
 },
 "nbformat": 4,
 "nbformat_minor": 4
}

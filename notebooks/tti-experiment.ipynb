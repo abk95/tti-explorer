{
 "cells": [
  {
   "cell_type": "markdown",
   "metadata": {},
   "source": [
    "Some words"
   ]
  },
  {
   "cell_type": "code",
   "execution_count": 1,
   "metadata": {},
   "outputs": [],
   "source": [
    "import os\n",
    "\n",
    "import numpy as np\n",
    "import pandas as pd\n",
    "\n",
    "from tti_explorer import config\n",
    "from tti_explorer.case import simulate_case, CaseFactors\n",
    "from tti_explorer.contacts import EmpiricalContactsSimulator\n",
    "from tti_explorer.strategies import TTIFlowModel"
   ]
  },
  {
   "cell_type": "code",
   "execution_count": 2,
   "metadata": {},
   "outputs": [],
   "source": [
    "def print_doc(func):\n",
    "    print(func.__doc__)"
   ]
  },
  {
   "cell_type": "markdown",
   "metadata": {},
   "source": [
    "Before we do anything, let's make a random state"
   ]
  },
  {
   "cell_type": "code",
   "execution_count": 3,
   "metadata": {},
   "outputs": [],
   "source": [
    "rng = np.random.RandomState(0)"
   ]
  },
  {
   "cell_type": "markdown",
   "metadata": {},
   "source": [
    "We will first do a short tour of the functionality, then show how this is put together to generate simulation results."
   ]
  },
  {
   "cell_type": "markdown",
   "metadata": {},
   "source": [
    "## Generate a case"
   ]
  },
  {
   "cell_type": "markdown",
   "metadata": {},
   "source": [
    "The function we use for this is `simulate_case` in `case.py`"
   ]
  },
  {
   "cell_type": "code",
   "execution_count": 4,
   "metadata": {},
   "outputs": [
    {
     "name": "stdout",
     "output_type": "stream",
     "text": [
      "simulate_case\n",
      "\n",
      "    Args:\n",
      "        rng (np.random.RandomState): random number generator.\n",
      "        p_under18 (float): Probability of case being under 18\n",
      "        infection_proportions (dict): Probs of being symp covid neg, symp covid pos, asymp covid pos\n",
      "                                      The only required key is 'dist', which contains list of the named probs, in that order.\n",
      "        p_day_noticed_symptoms (np.array[float]): Distribution of day on which case notices\n",
      "            their symptoms. (In our model this is same as reporting symptoms.)\n",
      "            Conditional on being symptomatic.\n",
      "        inf_profile (list[float]): Distribution of initial exposure of positive secondary cases\n",
      "            relative to start of primary case's infectious period.\n",
      "\n",
      "    Returns (Case): case with attributes populated.\n",
      "    \n"
     ]
    }
   ],
   "source": [
    "print_doc(simulate_case)"
   ]
  },
  {
   "cell_type": "markdown",
   "metadata": {},
   "source": [
    "We store our config values in `config.py`. You can retrieve them as follows"
   ]
  },
  {
   "cell_type": "code",
   "execution_count": 5,
   "metadata": {},
   "outputs": [
    {
     "data": {
      "text/plain": [
       "dict_keys(['p_under18', 'infection_proportions', 'p_day_noticed_symptoms', 'inf_profile'])"
      ]
     },
     "execution_count": 5,
     "metadata": {},
     "output_type": "execute_result"
    }
   ],
   "source": [
    "case_config = config.get_case_config(\"delve\")\n",
    "case_config.keys()"
   ]
  },
  {
   "cell_type": "markdown",
   "metadata": {},
   "source": [
    "We use these parameters to simulate a case"
   ]
  },
  {
   "cell_type": "code",
   "execution_count": 6,
   "metadata": {},
   "outputs": [
    {
     "name": "stdout",
     "output_type": "stream",
     "text": [
      "Case(under18: bool, covid: bool, symptomatic: bool, day_noticed_symptoms: int, inf_profile: list)\n"
     ]
    }
   ],
   "source": [
    "primary_case = simulate_case(rng, **case_config)\n",
    "print_doc(primary_case)"
   ]
  },
  {
   "cell_type": "markdown",
   "metadata": {},
   "source": [
    "Returned is a `case.Case` with stochastically generated attributes."
   ]
  },
  {
   "cell_type": "code",
   "execution_count": 7,
   "metadata": {},
   "outputs": [],
   "source": [
    "rng = np.random.RandomState(0)"
   ]
  },
  {
   "cell_type": "markdown",
   "metadata": {},
   "source": [
    "### Deeper: Case attributes"
   ]
  },
  {
   "cell_type": "markdown",
   "metadata": {},
   "source": [
    "_todo BE: explain case attributes_"
   ]
  },
  {
   "cell_type": "markdown",
   "metadata": {},
   "source": [
    "## Generate contacts\n",
    "Social contacts are represented by `Contacts` and defined in `contacts.py`.\n",
    "\n",
    "To simulate social contacts, we use the BBC Pandemic Dataset. This is stratified as over/under 18 to give different patterns of social contact depending on the age of the case. "
   ]
  },
  {
   "cell_type": "code",
   "execution_count": 8,
   "metadata": {},
   "outputs": [],
   "source": [
    "def load_csv(pth):\n",
    "    return np.loadtxt(pth, dtype=int, skiprows=1, delimiter=\",\")"
   ]
  },
  {
   "cell_type": "code",
   "execution_count": 9,
   "metadata": {},
   "outputs": [],
   "source": [
    "path_to_bbc_data = os.path.join(os.pardir, \"data\", \"bbc-pandemic\")\n",
    "\n",
    "over18 = load_csv(os.path.join(path_to_bbc_data, \"contact_distributions_o18.csv\"))\n",
    "under18 = load_csv(os.path.join(path_to_bbc_data, \"contact_distributions_u18.csv\"))"
   ]
  },
  {
   "cell_type": "markdown",
   "metadata": {},
   "source": [
    "Now that we have the data loaded, we use `EmpiricalContactsSimulator` to sample these tables for contacts of the primary case, then simulate their infection under a no measures scenario (i.e. no government intervention)"
   ]
  },
  {
   "cell_type": "code",
   "execution_count": 10,
   "metadata": {},
   "outputs": [
    {
     "name": "stdout",
     "output_type": "stream",
     "text": [
      "Simulate social contact using the BBC Pandemic dataset\n",
      "\n",
      "            Each row in input arrays consists of three numbers,\n",
      "            represeting number of contacts at: home, work, other\n",
      "\n",
      "        Args:\n",
      "            over18 (np.array[int], Nx3): Contact data for over 18s.\n",
      "            under18 (np.array[int], Nx3): Contact data for under 18s.\n",
      "            rng (np.random.RandomState): Random state.\n",
      "\n",
      "        \n"
     ]
    }
   ],
   "source": [
    "print_doc(EmpiricalContactsSimulator.__init__)"
   ]
  },
  {
   "cell_type": "code",
   "execution_count": 11,
   "metadata": {},
   "outputs": [],
   "source": [
    "simulate_contacts = EmpiricalContactsSimulator(over18, under18, rng)"
   ]
  },
  {
   "cell_type": "markdown",
   "metadata": {},
   "source": [
    "We can now use the callable `simulate_contacts` to simulate social contacts of the primary case"
   ]
  },
  {
   "cell_type": "code",
   "execution_count": 12,
   "metadata": {},
   "outputs": [
    {
     "name": "stdout",
     "output_type": "stream",
     "text": [
      "Generate a social contact for the given case.\n",
      "\n",
      "        A row from the table corresponding to the age of the `case` is sampled\n",
      "        uniformly at random. A contact is generated with daily contacts as\n",
      "        given by that row. These contacts are infected at random with attack rates\n",
      "        given by the SARs and whether or not the `case` is symptomatic. If the\n",
      "        `case` is COVID negative, then no contacts are infected.\n",
      "\n",
      "        Args:\n",
      "            case (Case): Primary case.\n",
      "            home_sar (float): Secondary attack rate for household contacts.\n",
      "                              (Marginal probability of infection over the whole simulation)\n",
      "            work_sar (float): Secondary attack rate for contacts in the work category.\n",
      "            other_sar (float): Secondary attack rate for contacts in the other category.\n",
      "            asymp_factor (float): Factor by which to multiply the probabilty of secondary\n",
      "                                  infection if `case` is asymptomatic COVID positive.\n",
      "            period (int): Duration of the simulation (days).\n",
      "\n",
      "        Returns:\n",
      "            contacts (Contacts): Simulated social contacts and resulting infections\n",
      "            for primary case `case`.\n",
      "        \n"
     ]
    }
   ],
   "source": [
    "print_doc(simulate_contacts.__call__)"
   ]
  },
  {
   "cell_type": "markdown",
   "metadata": {},
   "source": [
    "To do this we need some more parameters, which we also load from `config.py`. The user can, of course, specify this themselves if they would like."
   ]
  },
  {
   "cell_type": "code",
   "execution_count": 13,
   "metadata": {},
   "outputs": [],
   "source": [
    "contacts_config = config.get_contacts_config(\"delve\")"
   ]
  },
  {
   "cell_type": "code",
   "execution_count": 14,
   "metadata": {},
   "outputs": [
    {
     "data": {
      "text/plain": [
       "dict_keys(['home_sar', 'work_sar', 'other_sar', 'period', 'asymp_factor'])"
      ]
     },
     "execution_count": 14,
     "metadata": {},
     "output_type": "execute_result"
    }
   ],
   "source": [
    "contacts_config.keys()"
   ]
  },
  {
   "cell_type": "markdown",
   "metadata": {},
   "source": [
    "We now do the same as we did with when simulating a primary case."
   ]
  },
  {
   "cell_type": "code",
   "execution_count": 15,
   "metadata": {},
   "outputs": [
    {
     "name": "stdout",
     "output_type": "stream",
     "text": [
      "Contacts(n_daily: dict, home: <built-in function array>, work: <built-in function array>, other: <built-in function array>)\n"
     ]
    }
   ],
   "source": [
    "social_contacts = simulate_contacts(primary_case, **contacts_config)\n",
    "print_doc(social_contacts)"
   ]
  },
  {
   "cell_type": "markdown",
   "metadata": {},
   "source": [
    "### Deeper: Contacts attributes"
   ]
  },
  {
   "cell_type": "markdown",
   "metadata": {},
   "source": [
    "_todo BE: explain contacts attributes_"
   ]
  },
  {
   "cell_type": "markdown",
   "metadata": {},
   "source": [
    "All of the information about the primary case's infection and how they infect their social contacts (under no government intervention) is now contained in `primary_case` and `social_contacts`.\n",
    "\n",
    "... Now we run a simulation, some explanation of how that works"
   ]
  },
  {
   "cell_type": "markdown",
   "metadata": {},
   "source": [
    "## TTI Strategies"
   ]
  },
  {
   "cell_type": "markdown",
   "metadata": {},
   "source": [
    "## Running a Simulation"
   ]
  },
  {
   "cell_type": "code",
   "execution_count": 16,
   "metadata": {},
   "outputs": [],
   "source": [
    "from tti_explorer.strategies import TTIFlowModel"
   ]
  },
  {
   "cell_type": "code",
   "execution_count": 21,
   "metadata": {},
   "outputs": [],
   "source": [
    "# this getitem shouldn't have to be done, we should change this.\n",
    "policy_config = config.get_strategy_configs(\"delve\", \"S0\")['S0']  \n",
    "factor_config = config.pop_case_factors(policy_config)"
   ]
  },
  {
   "cell_type": "code",
   "execution_count": 18,
   "metadata": {},
   "outputs": [],
   "source": [
    "case_factors = CaseFactors.simulate_from(rng, primary_case, **factor_config)\n",
    "tti_model = TTIFlowModel(rng, **policy_config)\n",
    "metrics = tti_model(primary_case, social_contacts, case_factors)"
   ]
  },
  {
   "cell_type": "code",
   "execution_count": 19,
   "metadata": {},
   "outputs": [
    {
     "data": {
      "text/html": [
       "<div>\n",
       "<style scoped>\n",
       "    .dataframe tbody tr th:only-of-type {\n",
       "        vertical-align: middle;\n",
       "    }\n",
       "\n",
       "    .dataframe tbody tr th {\n",
       "        vertical-align: top;\n",
       "    }\n",
       "\n",
       "    .dataframe thead th {\n",
       "        text-align: right;\n",
       "    }\n",
       "</style>\n",
       "<table border=\"1\" class=\"dataframe\">\n",
       "  <thead>\n",
       "    <tr style=\"text-align: right;\">\n",
       "      <th></th>\n",
       "      <th>Result</th>\n",
       "    </tr>\n",
       "  </thead>\n",
       "  <tbody>\n",
       "    <tr>\n",
       "      <th>Base R</th>\n",
       "      <td>NaN</td>\n",
       "    </tr>\n",
       "    <tr>\n",
       "      <th>Effective R</th>\n",
       "      <td>NaN</td>\n",
       "    </tr>\n",
       "    <tr>\n",
       "      <th># Manual Traces</th>\n",
       "      <td>0</td>\n",
       "    </tr>\n",
       "    <tr>\n",
       "      <th># App Traces</th>\n",
       "      <td>0</td>\n",
       "    </tr>\n",
       "    <tr>\n",
       "      <th># Tests Needed</th>\n",
       "      <td>0</td>\n",
       "    </tr>\n",
       "    <tr>\n",
       "      <th># PersonDays Quarantined</th>\n",
       "      <td>0</td>\n",
       "    </tr>\n",
       "    <tr>\n",
       "      <th>Has Covid</th>\n",
       "      <td>False</td>\n",
       "    </tr>\n",
       "    <tr>\n",
       "      <th>Is Symptomatic</th>\n",
       "      <td>True</td>\n",
       "    </tr>\n",
       "    <tr>\n",
       "      <th>Got tested</th>\n",
       "      <td>False</td>\n",
       "    </tr>\n",
       "    <tr>\n",
       "      <th># Secondary Infections</th>\n",
       "      <td>0</td>\n",
       "    </tr>\n",
       "    <tr>\n",
       "      <th># Secondary Infections Prevented by Social Distancing</th>\n",
       "      <td>0</td>\n",
       "    </tr>\n",
       "    <tr>\n",
       "      <th># Secondary Infections Prevented by Isolating Cases with Symptoms</th>\n",
       "      <td>0</td>\n",
       "    </tr>\n",
       "    <tr>\n",
       "      <th># Secondary Infections Prevented by Contact Tracing</th>\n",
       "      <td>0</td>\n",
       "    </tr>\n",
       "    <tr>\n",
       "      <th>Fractional R</th>\n",
       "      <td>0</td>\n",
       "    </tr>\n",
       "  </tbody>\n",
       "</table>\n",
       "</div>"
      ],
      "text/plain": [
       "                                                   Result\n",
       "Base R                                                NaN\n",
       "Effective R                                           NaN\n",
       "# Manual Traces                                         0\n",
       "# App Traces                                            0\n",
       "# Tests Needed                                          0\n",
       "# PersonDays Quarantined                                0\n",
       "Has Covid                                           False\n",
       "Is Symptomatic                                       True\n",
       "Got tested                                          False\n",
       "# Secondary Infections                                  0\n",
       "# Secondary Infections Prevented by Social Dist...      0\n",
       "# Secondary Infections Prevented by Isolating C...      0\n",
       "# Secondary Infections Prevented by Contact Tra...      0\n",
       "Fractional R                                            0"
      ]
     },
     "execution_count": 19,
     "metadata": {},
     "output_type": "execute_result"
    }
   ],
   "source": [
    "pd.Series(metrics).to_frame(name=\"Result\")"
   ]
  }
 ],
 "metadata": {
  "kernelspec": {
   "display_name": "Python 3",
   "language": "python",
   "name": "python3"
  },
  "language_info": {
   "codemirror_mode": {
    "name": "ipython",
    "version": 3
   },
   "file_extension": ".py",
   "mimetype": "text/x-python",
   "name": "python",
   "nbconvert_exporter": "python",
   "pygments_lexer": "ipython3",
   "version": "3.8.2"
  }
 },
 "nbformat": 4,
 "nbformat_minor": 4
}

{
 "cells": [
  {
   "cell_type": "code",
   "execution_count": 40,
   "metadata": {},
   "outputs": [],
   "source": [
    "import os\n",
    "\n",
    "import numpy as np\n",
    "import pandas as pd\n",
    "\n",
    "from tti_explorer import utils"
   ]
  },
  {
   "cell_type": "code",
   "execution_count": null,
   "metadata": {},
   "outputs": [],
   "source": [
    "basedir = os.path.join(os.environ['DATA'], \"tti-explorer\", 'test-old-new')"
   ]
  },
  {
   "cell_type": "markdown",
   "metadata": {},
   "source": [
    "## Test cases are the same"
   ]
  },
  {
   "cell_type": "code",
   "execution_count": 25,
   "metadata": {},
   "outputs": [],
   "source": [
    "new_cases, new_meta = utils.load_cases(os.path.join(basedir, \"new\", \"delve_seed0.json\"))\n",
    "old_cases, old_meta = utils.load_cases(os.path.join(basedir, \"old\", \"oxteam_seed0.json\"))"
   ]
  },
  {
   "cell_type": "code",
   "execution_count": 23,
   "metadata": {},
   "outputs": [],
   "source": [
    "def assert_contacts_equal(a, b):\n",
    "    assert a.n_daily == b.n_daily\n",
    "    for attr in ['home', 'work', 'other']:\n",
    "        np.testing.assert_array_equal(getattr(a, attr), getattr(b, attr))"
   ]
  },
  {
   "cell_type": "code",
   "execution_count": 29,
   "metadata": {},
   "outputs": [],
   "source": [
    "for (old_case, old_contacts), (new_case, new_contacts) in zip(old_cases, new_cases):\n",
    "    assert old_case == new_case\n",
    "    assert_contacts_equal(old_contacts, new_contacts)"
   ]
  },
  {
   "cell_type": "markdown",
   "metadata": {},
   "source": [
    "## Test results are the same"
   ]
  },
  {
   "cell_type": "code",
   "execution_count": 91,
   "metadata": {},
   "outputs": [],
   "source": [
    "new_res_dir = os.path.join(basedir, \"new\", \"results\")\n",
    "old_res_dir = os.path.join(basedir, \"old\", \"results\")"
   ]
  },
  {
   "cell_type": "code",
   "execution_count": 92,
   "metadata": {},
   "outputs": [],
   "source": [
    "assert os.listdir(new_res_dir) == os.listdir(new_res_dir)"
   ]
  },
  {
   "cell_type": "code",
   "execution_count": 93,
   "metadata": {},
   "outputs": [],
   "source": [
    "new_all_res = pd.read_csv(os.path.join(new_res_dir, \"all_results.csv\"), index_col=0).drop('case_file', axis=1)\n",
    "old_all_res = pd.read_csv(os.path.join(old_res_dir, \"all_results.csv\"), index_col=0).drop('case_file', axis=1)"
   ]
  },
  {
   "cell_type": "code",
   "execution_count": 94,
   "metadata": {},
   "outputs": [],
   "source": [
    "new_means = new_all_res.query(\"statistic=='mean'\").drop('statistic', axis=1)\n",
    "new_stds = new_all_res.query(\"statistic=='std'\").drop('statistic', axis=1)\n",
    "old_means = old_all_res.query(\"statistic=='mean'\").drop('statistic', axis=1)\n",
    "old_stds = old_all_res.query(\"statistic=='std'\").drop('statistic', axis=1)"
   ]
  },
  {
   "cell_type": "code",
   "execution_count": 95,
   "metadata": {},
   "outputs": [],
   "source": [
    "delta = (new_means - old_means)\n",
    "delta_stds = (new_stds - old_stds)"
   ]
  },
  {
   "cell_type": "code",
   "execution_count": 1,
   "metadata": {},
   "outputs": [],
   "source": [
    "# pd.testing.assert_frame_equal(new_all_res, old_all_res)"
   ]
  },
  {
   "cell_type": "code",
   "execution_count": 2,
   "metadata": {},
   "outputs": [
    {
     "ename": "NameError",
     "evalue": "name 'delta' is not defined",
     "output_type": "error",
     "traceback": [
      "\u001b[0;31m---------------------------------------------------------------------------\u001b[0m",
      "\u001b[0;31mNameError\u001b[0m                                 Traceback (most recent call last)",
      "\u001b[0;32m<ipython-input-2-4bd6315d6d78>\u001b[0m in \u001b[0;36m<module>\u001b[0;34m\u001b[0m\n\u001b[0;32m----> 1\u001b[0;31m \u001b[0mdelta\u001b[0m\u001b[0;34m\u001b[0m\u001b[0;34m\u001b[0m\u001b[0m\n\u001b[0m",
      "\u001b[0;31mNameError\u001b[0m: name 'delta' is not defined"
     ]
    }
   ],
   "source": [
    "delta"
   ]
  }
 ],
 "metadata": {
  "kernelspec": {
   "display_name": "Python 3",
   "language": "python",
   "name": "python3"
  },
  "language_info": {
   "codemirror_mode": {
    "name": "ipython",
    "version": 3
   },
   "file_extension": ".py",
   "mimetype": "text/x-python",
   "name": "python",
   "nbconvert_exporter": "python",
   "pygments_lexer": "ipython3",
   "version": "3.8.2"
  }
 },
 "nbformat": 4,
 "nbformat_minor": 4
}

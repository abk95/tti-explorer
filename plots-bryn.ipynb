{
 "cells": [
  {
   "cell_type": "code",
   "execution_count": 1,
   "metadata": {},
   "outputs": [],
   "source": [
    "from collections import defaultdict\n",
    "import json\n",
    "import os\n",
    "\n",
    "import matplotlib.pyplot as plt\n",
    "import numpy as np\n",
    "import pandas as pd\n",
    "\n",
    "import sys; sys.path.append(\"models\")\n",
    "from config import get_case_config, get_case_sensitivities\n",
    "import sensitivity, utils\n",
    "from strategies import RETURN_KEYS\n",
    "\n",
    "from chart_books import *"
   ]
  },
  {
   "cell_type": "code",
   "execution_count": 2,
   "metadata": {},
   "outputs": [],
   "source": [
    "def make_table(entry, key=RETURN_KEYS.reduced_r):\n",
    "    coords, reslist = zip(*entry)\n",
    "    vals = take_key(reslist, key)\n",
    "    mat, idx = utils.sort_by(vals, coords, return_idx=True)\n",
    "    return pd.DataFrame(np.array(mat).reshape(3, 3))\n",
    "\n",
    "def config_files(folder):\n",
    "    return filter(lambda x: x.startswith(\"config\") and x.endswith('.json'), os.listdir(folder))\n",
    "\n",
    "def run_fname(cfg_fname):\n",
    "    return cfg_fname.replace(\"config\", \"run\").replace(\"json\", 'csv')\n",
    "\n",
    "def resgen(data_dir):\n",
    "    lockdowns = next(os.walk(data_dir))[1]\n",
    "    for lockdown in lockdowns:\n",
    "        folder = os.path.join(data_dir, lockdown)\n",
    "        for cfg_file in config_files(folder):\n",
    "            cfg = utils.read_json(os.path.join(folder, cfg_file))\n",
    "            target = cfg[sensitivity.TARGET_KEY]\n",
    "            results = pd.read_csv(os.path.join(folder, run_fname(cfg_file)), index_col=0)\n",
    "            yield lockdown, target, cfg[sensitivity.CONFIG_KEY], results"
   ]
  },
  {
   "cell_type": "code",
   "execution_count": 3,
   "metadata": {},
   "outputs": [],
   "source": [
    "import utils\n",
    "\n",
    "keys_to_plot = [RETURN_KEYS.reduced_r, RETURN_KEYS.tests]\n",
    "rc_dct = {\n",
    "    'figure.figsize': (14, 6),\n",
    "    'figure.max_open_warning': 1000,\n",
    "}\n",
    "chart_folder = os.path.join(os.environ['REPOS'], 'tti-explorer', 'charts')\n",
    "\n",
    "pinch_points_dir = os.path.join(os.environ['DATA'], \"tti-explorer\", \"pinch-points\")\n",
    "pinch_points_results = defaultdict(lambda: defaultdict(lambda: defaultdict(list)))\n",
    "for lockdown, target, cfg, results in resgen(pinch_points_dir):\n",
    "    if target in ['testing_delay', 'manual_trace_delay']:\n",
    "        continue\n",
    "    if int(lockdown[1]) > 0:\n",
    "        level, measures = lockdown.split('_', maxsplit=1)\n",
    "        pinch_points_results[level][target][measures].append((cfg[target], results))"
   ]
  },
  {
   "cell_type": "code",
   "execution_count": 4,
   "metadata": {},
   "outputs": [],
   "source": [
    "tt_dir = os.path.join(os.environ['DATA'], \"tti-explorer\", \"pinch-points-test-trace-delay\")\n",
    "test_trace_results = defaultdict(lambda: defaultdict(list))\n",
    "for lockdown, target, cfg, results in resgen(tt_dir):\n",
    "    if int(lockdown[1]) > 0:\n",
    "        vals = [cfg[k] for k in target]\n",
    "        level, measures = lockdown.split('_', maxsplit=1)\n",
    "        test_trace_results[level][measures].append((vals, results))  "
   ]
  },
  {
   "cell_type": "code",
   "execution_count": 6,
   "metadata": {},
   "outputs": [],
   "source": [
    "strings = list()\n",
    "t1, t2 = ['Test Delay (days)', 'Manual Trace Delay (days)']\n",
    "table_deck = utils.LatexTableDeck()\n",
    "\n",
    "for k in sorted(test_trace_results.keys()):\n",
    "    table_deck.add_section(f\"Lockdown Level {k}\")\n",
    "    for policy, entry in test_trace_results[k].items():\n",
    "        df = make_table(entry)\n",
    "        df.index =  range(1, 4)\n",
    "        df.columns = range(1, 4)\n",
    "        df.index.name = t1\n",
    "        df.columns.name = t2\n",
    "        table_deck.add_table(\n",
    "            tex_table=df.applymap(lambda x: f\"{x:.2f}\").to_latex(),\n",
    "            caption=nice_lockdown_name(policy)\n",
    "        )\n",
    "    table_deck.clearpage()\n",
    "table_deck.make(\"test-trace-tables.tex\")\n"
   ]
  },
  {
   "cell_type": "code",
   "execution_count": 29,
   "metadata": {
    "scrolled": true
   },
   "outputs": [],
   "source": [
    "%%capture\n",
    "with plt.rc_context(rc_dct):\n",
    "    for level, results in pinch_points_results.items():\n",
    "        deck = utils.PdfDeck()\n",
    "        plot_lockdown(results, deck, keys_to_plot)\n",
    "        deck.make(os.path.join(output_folder, f\"{level}_pinch_points.pdf\"))"
   ]
  },
  {
   "cell_type": "code",
   "execution_count": 30,
   "metadata": {},
   "outputs": [
    {
     "name": "stdout",
     "output_type": "stream",
     "text": [
      "L5_no_contact_tracing \n",
      "L2_positive_test_tracing_test_contacts \n",
      "L3_symptom_tracing \n",
      "L5_positive_test_tracing \n",
      "L4_symptom_tracing \n",
      "L1_positive_test_tracing_test_contacts \n",
      "L4_positive_test_tracing_test_contacts \n",
      "L5_symptom_tracing \n",
      "L3_positive_test_tracing \n",
      "L2_symptom_tracing \n",
      "L3_no_contact_tracing \n",
      "L1_positive_test_tracing \n",
      "L3_positive_test_tracing_test_contacts \n",
      "L2_no_contact_tracing \n",
      "L1_no_contact_tracing \n",
      "L4_positive_test_tracing \n",
      "L0 \n",
      "L5_positive_test_tracing_test_contacts \n",
      "L2_positive_test_tracing \n",
      "L1_symptom_tracing \n",
      "L4_no_contact_tracing \n"
     ]
    }
   ],
   "source": [
    "case_sensitivity_dir = os.path.join(os.environ['DATA'], 'tti-explorer', 'case-sensitivity')\n",
    "for lockdown, target, cfg, results in resgen(case_sensitivity_dir):\n",
    "    print(lockdown, target)\n",
    "    "
   ]
  },
  {
   "cell_type": "code",
   "execution_count": 32,
   "metadata": {},
   "outputs": [
    {
     "name": "stdout",
     "output_type": "stream",
     "text": [
      "config_0.json      over_all_seeds.csv run_0.csv\r\n"
     ]
    }
   ],
   "source": [
    "!ls {os.path.join(case_sensitivity_dir, lockdown)}"
   ]
  },
  {
   "cell_type": "code",
   "execution_count": 25,
   "metadata": {},
   "outputs": [
    {
     "data": {
      "text/plain": [
       "''"
      ]
     },
     "execution_count": 25,
     "metadata": {},
     "output_type": "execute_result"
    }
   ],
   "source": [
    "target"
   ]
  },
  {
   "cell_type": "code",
   "execution_count": null,
   "metadata": {},
   "outputs": [],
   "source": []
  }
 ],
 "metadata": {
  "kernelspec": {
   "display_name": "Python 3",
   "language": "python",
   "name": "python3"
  },
  "language_info": {
   "codemirror_mode": {
    "name": "ipython",
    "version": 3
   },
   "file_extension": ".py",
   "mimetype": "text/x-python",
   "name": "python",
   "nbconvert_exporter": "python",
   "pygments_lexer": "ipython3",
   "version": "3.8.2"
  }
 },
 "nbformat": 4,
 "nbformat_minor": 4
}
